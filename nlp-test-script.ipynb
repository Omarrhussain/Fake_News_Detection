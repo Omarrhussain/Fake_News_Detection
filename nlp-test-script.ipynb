{
 "cells": [
  {
   "cell_type": "code",
   "execution_count": 1,
   "id": "da4b5032",
   "metadata": {
    "execution": {
     "iopub.execute_input": "2025-05-04T18:45:47.186780Z",
     "iopub.status.busy": "2025-05-04T18:45:47.186453Z",
     "iopub.status.idle": "2025-05-04T18:45:49.543259Z",
     "shell.execute_reply": "2025-05-04T18:45:49.542313Z"
    },
    "papermill": {
     "duration": 2.362606,
     "end_time": "2025-05-04T18:45:49.544954",
     "exception": false,
     "start_time": "2025-05-04T18:45:47.182348",
     "status": "completed"
    },
    "tags": []
   },
   "outputs": [],
   "source": [
    "import string\n",
    "import joblib\n",
    "model = joblib.load('/kaggle/input/nlp-models/mlp_classifier_model.pkl')\n",
    "\n"
   ]
  },
  {
   "cell_type": "code",
   "execution_count": 2,
   "id": "ca2ab54f",
   "metadata": {
    "execution": {
     "iopub.execute_input": "2025-05-04T18:45:49.552804Z",
     "iopub.status.busy": "2025-05-04T18:45:49.552231Z",
     "iopub.status.idle": "2025-05-04T18:45:50.369007Z",
     "shell.execute_reply": "2025-05-04T18:45:50.368188Z"
    },
    "papermill": {
     "duration": 0.822532,
     "end_time": "2025-05-04T18:45:50.370618",
     "exception": false,
     "start_time": "2025-05-04T18:45:49.548086",
     "status": "completed"
    },
    "tags": []
   },
   "outputs": [],
   "source": [
    "import re\n",
    "import string\n",
    "import joblib\n",
    "from nltk.tokenize import word_tokenize\n",
    "from nltk.corpus import stopwords\n",
    "from nltk.stem import WordNetLemmatizer"
   ]
  },
  {
   "cell_type": "code",
   "execution_count": 3,
   "id": "e5ee6d1e",
   "metadata": {
    "_cell_guid": "b1076dfc-b9ad-4769-8c92-a6c4dae69d19",
    "_uuid": "8f2839f25d086af736a60e9eeb907d3b93b6e0e5",
    "execution": {
     "iopub.execute_input": "2025-05-04T18:45:50.376132Z",
     "iopub.status.busy": "2025-05-04T18:45:50.375845Z",
     "iopub.status.idle": "2025-05-04T18:45:50.382128Z",
     "shell.execute_reply": "2025-05-04T18:45:50.381337Z"
    },
    "papermill": {
     "duration": 0.010592,
     "end_time": "2025-05-04T18:45:50.383553",
     "exception": false,
     "start_time": "2025-05-04T18:45:50.372961",
     "status": "completed"
    },
    "tags": []
   },
   "outputs": [],
   "source": [
    "def preprocess_text(text):\n",
    "    # Fix encoding issues\n",
    "    text = text.replace('â€™', \"'\").replace('â€\"', '-').replace('â€œ', '\"').replace('â€', '\"')\n",
    "\n",
    "    # Convert to lowercase\n",
    "    text = text.lower()\n",
    "\n",
    "    # Remove URLs\n",
    "    text = re.sub(r'http\\S+', '', text)\n",
    "\n",
    "    # Remove punctuation\n",
    "    text = text.translate(str.maketrans('', '', string.punctuation))\n",
    "\n",
    "    # Tokenize\n",
    "    tokens = word_tokenize(text)\n",
    "\n",
    "    # Remove stopwords\n",
    "    stop_words = set(stopwords.words('english'))\n",
    "    tokens = [word for word in tokens if word not in stop_words]\n",
    "\n",
    "    # Lemmatize\n",
    "    lemmatizer = WordNetLemmatizer()\n",
    "    tokens = [lemmatizer.lemmatize(word) for word in tokens]\n",
    "\n",
    "    # Rejoin tokens\n",
    "    processed_text = ' '.join(tokens)\n",
    "\n",
    "    return processed_text\n",
    "\n",
    "\n",
    "\n"
   ]
  },
  {
   "cell_type": "code",
   "execution_count": 4,
   "id": "bd6d57e8",
   "metadata": {
    "execution": {
     "iopub.execute_input": "2025-05-04T18:45:50.389991Z",
     "iopub.status.busy": "2025-05-04T18:45:50.389706Z",
     "iopub.status.idle": "2025-05-04T18:45:50.399557Z",
     "shell.execute_reply": "2025-05-04T18:45:50.398535Z"
    },
    "papermill": {
     "duration": 0.015297,
     "end_time": "2025-05-04T18:45:50.401169",
     "exception": false,
     "start_time": "2025-05-04T18:45:50.385872",
     "status": "completed"
    },
    "tags": []
   },
   "outputs": [],
   "source": [
    "text=\"\"\"\n",
    " Anti-Trump Protesters Are Tools of the Oligarchy Â“Reform always provokes rage on the part of those who profit by the old order.Â” Arthur M. Schlesinger, Jr., The Crisis of the Old Order\n",
    "By Paul Craig Roberts\n",
    " Who are the anti-Trump protesters besmirching the name of progressives by pretending to be progressives and by refusing to accept the outcome of the presidential election? They look like, and are acting worse than, the Â“white trashÂ” that they are denouncing.\n",
    "I think I know who they are. They are thugs for hire and are paid by the Oligarchy to delegitimize TrumpÂ’s presidency in the way that Washington and the German Marshall Fund paid students in Kiev to protest the democratically elected Ukrainian government in order to prepare the way for a coup.\n",
    "The organization, change.org, which claims to be a progressive group, but might be a front, along with other progressive groups, for the Oligarchy, is destroying the reputation of all progressives by circulating a petition that directs the electors of the Electoral Collage to annul the election by casting their votes for Hillary. Remember how upset progressives were when Trump said he might not accept the election result if there was evidence that the vote was rigged? Now progressives are doing what they damned Trump for saying he might do under certain conditions.\n",
    "The Western presstitutes used the protests in Kiev to delegitimize a democratically elected government and to set it up for a coup. The protest pay was good enough that non-Ukrainians came from nearby countries to participate in the protest in order to collect the money. At the time I posted the amounts paid daily to protesters. Reports came in to me from Eastern and Western Europe from people who were not Ukrainian but were paid to protest as if they were Ukrainians.\n",
    "The same thing is going on with the Trump protests. CNN reports that Â“for many Americans across the country, Donald TrumpÂ’s victory is an outcome they simply refuse to accept. Tens of thousands filled the streets in at least 25 US cities overnight.Â” This is the exact reporting that the Oligarchy desired from its presstitutes and got.\n",
    "I hope no one thinks that simultaneous protests in 25 cities were a spontaneous event. How did 25 independent protests manage to come up with the same slogans and the same signs on the same night following the election?\n",
    "What is the point of the protests, and what interest is served by them? As the Romans always asked, Â“who benefits?Â”\n",
    "There is only one answer: The Oligarchy and only the Oligarchy benefits.\n",
    "Trump is a threat to the Oligarchy, because he intends to stop the giveaway of American jobs to foreigners. The jobs giveaway, sanctified by the neoliberal junk economists as Â“free trade,Â” is one of the main reasons for the 21st century worsening of the US income distribution. Money that was formerly paid in middle class wages and salaries to American manufacturing employees and college graduates has been re-routed to the pockets of the One Percent.\n",
    "When US corporations move their production of goods and services sold to Americans offshore to Asian countries, such as China and India, their wage bill falls. The money formerly paid in middle class incomes goes instead into executive bonuses and dividends and capital gains to shareholders. The ladders of upward mobility that had made America the land of opportunity were dismantled for the sole purpose of making a handful of people multi-billionaires.\n",
    "Trump is a threat to the Oligarchy, because he intends peaceful relations with Russia. In order to replace the profitable Soviet Threat, the Oligarchy and their neoconservative agents worked overtime to recreate the Â“Russian ThreatÂ” by demonizing Russia.\n",
    "Accustomed to many decades of excess profits from the profitable Cold War, the military/security complex was angry when President Reagan brought the Cold War to an end. Before these leaches on American taxpayers could get the Cold War going again, the Soviet Union collapsed as a result of a right-wing coup against Soviet President Mikhail Gorbachev.\n",
    "The military/security complex and their zionist neoconservative agents cooked up Â“the war on terrorÂ” to keep the money flowing to the One Percent. But as hard as the presstitute media worked to create fear of Â“the Muslim threat,Â” even insouciant Americans knew that the Muslims did not have thousands of ICBMs carrying powerful thermo-nuclear weapons capable of destroying the entirety of the United States in a few minutes. Neither did the Muslims have the Red Army capable of overrunning all of Europe in a couple of days. Indeed, the Muslims havenÂ’t needed an army. Refugees from WashingtonÂ’s wars enabled by Europeans are overrunning Europe.\n",
    "The excuse for the annual trillion dollar ($1,000 billion ) military/security budget was missing. So the Oligarchy created Â“the New HitlerÂ” in Russia. Hillary was the OligarchyÂ’s principle agent for heating up the new Cold War.\n",
    "Hillary is the tool, enriched by the Oligarchy, whose job as President was to protect and to increase the trillion dollar budget of the military/security complex. With Hillary in the White House, the looting of the American taxpayers in behalf of the wealth of the One Percent could go forward unimpeded. But if Trump resolves Â“the Russian threat,Â” the Oligarchy takes an income hit.\n",
    "HillaryÂ’s job as President was also to privatize Social Security in order that her Wall Street benefactors can rip off Americans the way that Americans have been ripped off by the insurance companies under Obamacare.\n",
    "Those Americans who do not pay attention think, mistakenly, that the FBI cleared Hillary of violating National Security protocols with her email practices. The FBI said that Hillary did violate National Security, but that it was a result of carelessness or ignorance. She got off from indictment, because the FBI concluded that she did not intentionally violate National Security protocols. The investigation of the Clinton Foundation continues.\n",
    "In other words, in order to protect Hillary the FBI fell back on the ancient common law rule that Â“there can be no crime without intent.Â” (See PCR and Lawrence Stratton, The Tyranny of Good Intentions .)\n",
    "One would think that protesters, if they were legitimate, would be celebrating TrumpÂ’s victory. He, unlike Hillary, promises to reduce tensions with powerful Russia, and we hope also with China. Unlike Hillary, Trump says he is concerned with the absence of careers for those very people protesting in the streets of 25 cities against him.\n",
    "In other words, the protests against the American people for electing Trump as their president are pointless. The protests are happening for one reason only. The Oligarchy intends to delegitimize the Trump Presidency. Once President Trump is delegitimized, it will be easier for the Oligarchy to assassinate him. Unless the Oligarchy can appoint and control TrumpÂ’s government, Trump is a prime candidate for assassination.\n",
    "The protests against Trump are suspicious for another reason. Unlike Hillary, Obama, and George W. Bush, Donald Trump has not slaughtered and dislocated millions of peoples in seven countries, sending millions of refugees from the OligarchyÂ’s wars to overrun Europe.\n",
    "Trump earned his fortune, and if by hook or crook, not by selling US government influence to foreign agents as Bill and Hillary did.\n",
    "So what are the protesters protesting?\n",
    "There is no answer except that they are hired to protest. Just as the Maidan protesters in Kiev were hired to protest by US and German financed NGOs.\n",
    "The protests in Kiev were equally pointless, because presidential elections were only months away. If Ukrainians really believed that their president was conspiring with Russia to keep Ukraine from becoming a Western puppet state and wished to become a puppet state regardless of the costs, the opportunity to vote the government out was at hand. The only reason for the protests was to orchestrate a coup. The US did succeed in putting their agent in control of the new Ukrainian government as Victoria Nuland and the US ambassador in Kiev confirmed in their telephone conversation that is available on the Internet.\n",
    "The Maidan protests were pointless except for making a coup possible. The protests were without any doubt arranged by Washington through Assistant Secretary of State Victoria Nuland, a neoconservative brought into the State Department by Hillary Clinton for the purpose of creating conflict with Russia.\n",
    "Trump is being protested in order to make him vulnerable in the event he proves to be the threat to the Oligarchy that he is thought to be.\n",
    "Trump won the presidency, but the Oligarchy is still in power, which makes any real reforms difficult to achieve. Symbolic reforms can be the product of the contest between President Trump and the oligarchs.\n",
    "Karl Marx learned from historical experience, and Lenin, Stalin, and Pol Pot learned from Karl Marx, that change cannot occur if the displaced ruling class is left intact after a revolution against them. We have proof of this throughout South America. Every revolution by the indigenous people has left unmolested the Spanish ruling class, and every revolution has been overthrown by collusion between the ruling class and Washington.\n",
    "Washington has conspired with traditional elites to remove the elected presidents of Honduras on a number of occasions. Recently, Washington helped elites evict the female presidents of Argentina and Brazil. The presidents of Venezuela, Ecuador, and Bolivia are in the crosshairs and are unlikely to survive. Washington is determined to get its hands on Julian Assange. To achieve this Washington intends to overthrow the Ecuadoran government that, in defiance of Washington, gave Julian Assange political asylum.\n",
    "Hugo Chavez had the power to exile or to exterminate the Spanish ruling class in Venezuela when the ruling class participated in a CIA coup against Chavez. But before the CIA could kill Chavez, the people and the military forced his release. Instead of punishing the criminals who would have murdered him, Chavez let them go.\n",
    "According to Marx, Lenin, and Stalin, this is the classic mistake of the revolutionary. To rely on good will from the overthrown ruling class is the certain road to the defeat of the revolution.\n",
    "Latin American has proved itself unable to learn this lesson: Revolutions cannot be conciliatory.\n",
    "Trump is a dealmaker. The Oligarchy can permit him the sheen of success in exchange for no real change.\n",
    "Trump is not perfect. He might fail on his own. But we should back him on the two most important elements in his program: to reduce tensions between the major nuclear powers, and to halt WashingtonÂ’s policy of permitting globalism to destroy AmericansÂ’ economic prospects.\n",
    "If tensions between nuclear powers worsen, we wonÂ’t be here to worry about other problems. The combination of the economy hollowed out by globalism and immigration is an economic nightmare. That Trump understands this is reason to support him.\n",
    "Note: Some believe that Trump is a ruse conducted by the Oligarchy. However, as Hillary is the bought-and-paid-for representative of the Oligarchy, such an elaborate ruse is unnecessary. It is preferable for the Oligarchy to win on its own platform than to install a president on the opposite platform and then change him around. Another sellout increases the anger of the people. If Hillary had won, the Oligarchy would have had the votersÂ’ mandate for their platform.\n",
    "Dr. Paul Craig Roberts was Assistant Secretary of the Treasury for Economic Policy and associate editor of the Wall Street Journal. He was columnist for Business Week, Scripps Howard News Service, and Creators Syndicate. He has had many university appointments. His internet columns have attracted a worldwide following. Roberts' latest books are The Failure of Laissez Faire Capitalism and Economic Dissolution of the West , How America Was Lost , and The Neoconservative Threat to World Order .\n",
    "\"\"\"\n"
   ]
  },
  {
   "cell_type": "code",
   "execution_count": 6,
   "id": "7872b8e0",
   "metadata": {
    "execution": {
     "iopub.execute_input": "2025-05-04T18:45:50.417255Z",
     "iopub.status.busy": "2025-05-04T18:45:50.416952Z",
     "iopub.status.idle": "2025-05-04T18:45:53.781582Z",
     "shell.execute_reply": "2025-05-04T18:45:53.780596Z"
    },
    "papermill": {
     "duration": 3.369056,
     "end_time": "2025-05-04T18:45:53.783025",
     "exception": false,
     "start_time": "2025-05-04T18:45:50.413969",
     "status": "completed"
    },
    "tags": []
   },
   "outputs": [
    {
     "name": "stdout",
     "output_type": "stream",
     "text": [
      "-------------------FAKE News-------------------\n"
     ]
    }
   ],
   "source": [
    "import joblib\n",
    "from sklearn.feature_extraction.text import TfidfVectorizer\n",
    "\n",
    "# Load the saved vectorizer (no need to reinitialize)\n",
    "tfidf_v = joblib.load('/kaggle/input/nlp-models/tfidf_vectorizer.pkl')\n",
    "\n",
    "# Preprocess the input text\n",
    "processed_text = preprocess_text(text)\n",
    "\n",
    "# Transform the preprocessed text\n",
    "vectorized = tfidf_v.transform([processed_text])  # Wrap in a list!\n",
    "\n",
    "# Predict\n",
    "prediction = model.predict(vectorized)\n",
    "\n",
    "# print(\"Predicted class:\", prediction[0])\n",
    "\n",
    "if(prediction[0]==1):\n",
    "    print(\"-------------------REAL News-------------------\")\n",
    "else :\n",
    "    print(\"-------------------FAKE News-------------------\")"
   ]
  }
 ],
 "metadata": {
  "kaggle": {
   "accelerator": "none",
   "dataSources": [
    {
     "datasetId": 7286042,
     "sourceId": 11615168,
     "sourceType": "datasetVersion"
    }
   ],
   "dockerImageVersionId": 31012,
   "isGpuEnabled": false,
   "isInternetEnabled": true,
   "language": "python",
   "sourceType": "notebook"
  },
  "kernelspec": {
   "display_name": "Python 3",
   "language": "python",
   "name": "python3"
  },
  "language_info": {
   "codemirror_mode": {
    "name": "ipython",
    "version": 3
   },
   "file_extension": ".py",
   "mimetype": "text/x-python",
   "name": "python",
   "nbconvert_exporter": "python",
   "pygments_lexer": "ipython3",
   "version": "3.11.11"
  },
  "papermill": {
   "default_parameters": {},
   "duration": 12.207356,
   "end_time": "2025-05-04T18:45:54.710559",
   "environment_variables": {},
   "exception": null,
   "input_path": "__notebook__.ipynb",
   "output_path": "__notebook__.ipynb",
   "parameters": {},
   "start_time": "2025-05-04T18:45:42.503203",
   "version": "2.6.0"
  }
 },
 "nbformat": 4,
 "nbformat_minor": 5
}
