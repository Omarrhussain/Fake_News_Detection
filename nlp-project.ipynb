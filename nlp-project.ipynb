{
 "cells": [
  {
   "cell_type": "code",
   "execution_count": 1,
   "id": "033e5ee6",
   "metadata": {
    "execution": {
     "iopub.execute_input": "2025-04-29T14:53:49.662012Z",
     "iopub.status.busy": "2025-04-29T14:53:49.661701Z",
     "iopub.status.idle": "2025-04-29T14:54:32.664533Z",
     "shell.execute_reply": "2025-04-29T14:54:32.663467Z"
    },
    "id": "ESPBRCRYpeEt",
    "outputId": "764a3606-8101-482e-9eed-8cf7e87be1da",
    "papermill": {
     "duration": 43.011567,
     "end_time": "2025-04-29T14:54:32.666324",
     "exception": false,
     "start_time": "2025-04-29T14:53:49.654757",
     "status": "completed"
    },
    "tags": []
   },
   "outputs": [
    {
     "name": "stderr",
     "output_type": "stream",
     "text": [
      "[nltk_data] Downloading package punkt_tab to /usr/share/nltk_data...\n",
      "[nltk_data]   Package punkt_tab is already up-to-date!\n",
      "[nltk_data] Downloading package stopwords to /usr/share/nltk_data...\n",
      "[nltk_data]   Package stopwords is already up-to-date!\n",
      "[nltk_data] Downloading package wordnet to /usr/share/nltk_data...\n",
      "[nltk_data]   Package wordnet is already up-to-date!\n"
     ]
    },
    {
     "name": "stdout",
     "output_type": "stream",
     "text": [
      "Loaded 6335 rows from the CSV file\n"
     ]
    }
   ],
   "source": [
    "import pandas as pd\n",
    "import re\n",
    "import nltk\n",
    "from nltk.corpus import stopwords\n",
    "from nltk.stem import WordNetLemmatizer\n",
    "from nltk.tokenize import word_tokenize\n",
    "import string\n",
    "\n",
    "# Download necessary NLTK resources\n",
    "nltk.download('punkt_tab')\n",
    "nltk.download('stopwords')\n",
    "nltk.download('wordnet')\n",
    "\n",
    "# Try with minimal parameters first\n",
    "df = pd.read_csv('/kaggle/input/fake-news-nlp/news.csv',\n",
    "                encoding='utf-8',\n",
    "                # engine='python',\n",
    "                # on_bad_lines='skip'\n",
    "                 )\n",
    "\n",
    "# Check if it loaded\n",
    "print(f\"Loaded {len(df)} rows from the CSV file\")\n",
    "\n",
    "def preprocess_text(text):\n",
    "    # Fix encoding issues\n",
    "    text = text.replace('â€™', \"'\").replace('â€\"', '-').replace('â€œ', '\"').replace('â€', '\"')\n",
    "\n",
    "    # Convert to lowercase\n",
    "    text = text.lower()\n",
    "\n",
    "    # Remove URLs\n",
    "    text = re.sub(r'http\\S+', '', text)\n",
    "\n",
    "    # Remove punctuation\n",
    "    text = text.translate(str.maketrans('', '', string.punctuation))\n",
    "\n",
    "    # Tokenize\n",
    "    tokens = word_tokenize(text)\n",
    "\n",
    "    # Remove stopwords\n",
    "    stop_words = set(stopwords.words('english'))\n",
    "    tokens = [word for word in tokens if word not in stop_words]\n",
    "\n",
    "    # Lemmatize\n",
    "    lemmatizer = WordNetLemmatizer()\n",
    "    tokens = [lemmatizer.lemmatize(word) for word in tokens]\n",
    "\n",
    "    # Rejoin tokens\n",
    "    processed_text = ' '.join(tokens)\n",
    "\n",
    "    return processed_text\n",
    "\n",
    "# Apply preprocessing to your data\n",
    "df['text'] = df['text'].apply(preprocess_text)\n",
    "df['label'] = df['label'].map({'FAKE': 0, 'REAL': 1})"
   ]
  },
  {
   "cell_type": "code",
   "execution_count": 2,
   "id": "8afecb8c",
   "metadata": {
    "execution": {
     "iopub.execute_input": "2025-04-29T14:54:32.678443Z",
     "iopub.status.busy": "2025-04-29T14:54:32.678085Z",
     "iopub.status.idle": "2025-04-29T14:54:32.700621Z",
     "shell.execute_reply": "2025-04-29T14:54:32.699725Z"
    },
    "id": "wKYV8YwNuWGb",
    "outputId": "ff1d0dac-d30e-4827-c371-34f149771528",
    "papermill": {
     "duration": 0.030208,
     "end_time": "2025-04-29T14:54:32.702202",
     "exception": false,
     "start_time": "2025-04-29T14:54:32.671994",
     "status": "completed"
    },
    "tags": []
   },
   "outputs": [
    {
     "data": {
      "text/html": [
       "<div>\n",
       "<style scoped>\n",
       "    .dataframe tbody tr th:only-of-type {\n",
       "        vertical-align: middle;\n",
       "    }\n",
       "\n",
       "    .dataframe tbody tr th {\n",
       "        vertical-align: top;\n",
       "    }\n",
       "\n",
       "    .dataframe thead th {\n",
       "        text-align: right;\n",
       "    }\n",
       "</style>\n",
       "<table border=\"1\" class=\"dataframe\">\n",
       "  <thead>\n",
       "    <tr style=\"text-align: right;\">\n",
       "      <th></th>\n",
       "      <th>Unnamed: 0</th>\n",
       "      <th>title</th>\n",
       "      <th>text</th>\n",
       "      <th>label</th>\n",
       "    </tr>\n",
       "  </thead>\n",
       "  <tbody>\n",
       "    <tr>\n",
       "      <th>0</th>\n",
       "      <td>8476</td>\n",
       "      <td>You Can Smell Hillary’s Fear</td>\n",
       "      <td>daniel greenfield shillman journalism fellow f...</td>\n",
       "      <td>0</td>\n",
       "    </tr>\n",
       "    <tr>\n",
       "      <th>1</th>\n",
       "      <td>10294</td>\n",
       "      <td>Watch The Exact Moment Paul Ryan Committed Pol...</td>\n",
       "      <td>google pinterest digg linkedin reddit stumbleu...</td>\n",
       "      <td>0</td>\n",
       "    </tr>\n",
       "    <tr>\n",
       "      <th>2</th>\n",
       "      <td>3608</td>\n",
       "      <td>Kerry to go to Paris in gesture of sympathy</td>\n",
       "      <td>u secretary state john f kerry said monday sto...</td>\n",
       "      <td>1</td>\n",
       "    </tr>\n",
       "    <tr>\n",
       "      <th>3</th>\n",
       "      <td>10142</td>\n",
       "      <td>Bernie supporters on Twitter erupt in anger ag...</td>\n",
       "      <td>— kaydee king kaydeeking november 9 2016 lesso...</td>\n",
       "      <td>0</td>\n",
       "    </tr>\n",
       "    <tr>\n",
       "      <th>4</th>\n",
       "      <td>875</td>\n",
       "      <td>The Battle of New York: Why This Primary Matters</td>\n",
       "      <td>primary day new york frontrunners hillary clin...</td>\n",
       "      <td>1</td>\n",
       "    </tr>\n",
       "  </tbody>\n",
       "</table>\n",
       "</div>"
      ],
      "text/plain": [
       "   Unnamed: 0                                              title  \\\n",
       "0        8476                       You Can Smell Hillary’s Fear   \n",
       "1       10294  Watch The Exact Moment Paul Ryan Committed Pol...   \n",
       "2        3608        Kerry to go to Paris in gesture of sympathy   \n",
       "3       10142  Bernie supporters on Twitter erupt in anger ag...   \n",
       "4         875   The Battle of New York: Why This Primary Matters   \n",
       "\n",
       "                                                text  label  \n",
       "0  daniel greenfield shillman journalism fellow f...      0  \n",
       "1  google pinterest digg linkedin reddit stumbleu...      0  \n",
       "2  u secretary state john f kerry said monday sto...      1  \n",
       "3  — kaydee king kaydeeking november 9 2016 lesso...      0  \n",
       "4  primary day new york frontrunners hillary clin...      1  "
      ]
     },
     "execution_count": 2,
     "metadata": {},
     "output_type": "execute_result"
    }
   ],
   "source": [
    "df.head()"
   ]
  },
  {
   "cell_type": "code",
   "execution_count": 3,
   "id": "df358da7",
   "metadata": {
    "execution": {
     "iopub.execute_input": "2025-04-29T14:54:32.713538Z",
     "iopub.status.busy": "2025-04-29T14:54:32.713198Z",
     "iopub.status.idle": "2025-04-29T14:54:32.723036Z",
     "shell.execute_reply": "2025-04-29T14:54:32.722297Z"
    },
    "id": "uOXAEOP6uaIy",
    "papermill": {
     "duration": 0.016826,
     "end_time": "2025-04-29T14:54:32.724312",
     "exception": false,
     "start_time": "2025-04-29T14:54:32.707486",
     "status": "completed"
    },
    "tags": []
   },
   "outputs": [],
   "source": [
    "#deleting unwanted columns\n",
    "df = df.drop(\"Unnamed: 0\", axis = 1)\n",
    "df = df.drop(\"title\", axis = 1)"
   ]
  },
  {
   "cell_type": "code",
   "execution_count": 4,
   "id": "c238876e",
   "metadata": {
    "execution": {
     "iopub.execute_input": "2025-04-29T14:54:32.735506Z",
     "iopub.status.busy": "2025-04-29T14:54:32.735155Z",
     "iopub.status.idle": "2025-04-29T14:54:32.743409Z",
     "shell.execute_reply": "2025-04-29T14:54:32.742569Z"
    },
    "id": "O3z0xkdUu2Yh",
    "outputId": "3951cd2b-8eca-4ca7-cd77-519ab2124678",
    "papermill": {
     "duration": 0.01561,
     "end_time": "2025-04-29T14:54:32.744913",
     "exception": false,
     "start_time": "2025-04-29T14:54:32.729303",
     "status": "completed"
    },
    "tags": []
   },
   "outputs": [
    {
     "data": {
      "text/html": [
       "<div>\n",
       "<style scoped>\n",
       "    .dataframe tbody tr th:only-of-type {\n",
       "        vertical-align: middle;\n",
       "    }\n",
       "\n",
       "    .dataframe tbody tr th {\n",
       "        vertical-align: top;\n",
       "    }\n",
       "\n",
       "    .dataframe thead th {\n",
       "        text-align: right;\n",
       "    }\n",
       "</style>\n",
       "<table border=\"1\" class=\"dataframe\">\n",
       "  <thead>\n",
       "    <tr style=\"text-align: right;\">\n",
       "      <th></th>\n",
       "      <th>text</th>\n",
       "      <th>label</th>\n",
       "    </tr>\n",
       "  </thead>\n",
       "  <tbody>\n",
       "    <tr>\n",
       "      <th>0</th>\n",
       "      <td>daniel greenfield shillman journalism fellow f...</td>\n",
       "      <td>0</td>\n",
       "    </tr>\n",
       "    <tr>\n",
       "      <th>1</th>\n",
       "      <td>google pinterest digg linkedin reddit stumbleu...</td>\n",
       "      <td>0</td>\n",
       "    </tr>\n",
       "    <tr>\n",
       "      <th>2</th>\n",
       "      <td>u secretary state john f kerry said monday sto...</td>\n",
       "      <td>1</td>\n",
       "    </tr>\n",
       "    <tr>\n",
       "      <th>3</th>\n",
       "      <td>— kaydee king kaydeeking november 9 2016 lesso...</td>\n",
       "      <td>0</td>\n",
       "    </tr>\n",
       "    <tr>\n",
       "      <th>4</th>\n",
       "      <td>primary day new york frontrunners hillary clin...</td>\n",
       "      <td>1</td>\n",
       "    </tr>\n",
       "  </tbody>\n",
       "</table>\n",
       "</div>"
      ],
      "text/plain": [
       "                                                text  label\n",
       "0  daniel greenfield shillman journalism fellow f...      0\n",
       "1  google pinterest digg linkedin reddit stumbleu...      0\n",
       "2  u secretary state john f kerry said monday sto...      1\n",
       "3  — kaydee king kaydeeking november 9 2016 lesso...      0\n",
       "4  primary day new york frontrunners hillary clin...      1"
      ]
     },
     "execution_count": 4,
     "metadata": {},
     "output_type": "execute_result"
    }
   ],
   "source": [
    "df.head()"
   ]
  },
  {
   "cell_type": "code",
   "execution_count": 5,
   "id": "e3c1923d",
   "metadata": {
    "execution": {
     "iopub.execute_input": "2025-04-29T14:54:32.756256Z",
     "iopub.status.busy": "2025-04-29T14:54:32.755979Z",
     "iopub.status.idle": "2025-04-29T14:54:32.764478Z",
     "shell.execute_reply": "2025-04-29T14:54:32.763646Z"
    },
    "id": "gpFaPv_Bu-FB",
    "outputId": "491e90f7-ff37-44bf-ba0b-51e4a32a219f",
    "papermill": {
     "duration": 0.015912,
     "end_time": "2025-04-29T14:54:32.765957",
     "exception": false,
     "start_time": "2025-04-29T14:54:32.750045",
     "status": "completed"
    },
    "tags": []
   },
   "outputs": [
    {
     "data": {
      "text/plain": [
       "text     0\n",
       "label    0\n",
       "dtype: int64"
      ]
     },
     "execution_count": 5,
     "metadata": {},
     "output_type": "execute_result"
    }
   ],
   "source": [
    "df.isna().sum()"
   ]
  },
  {
   "cell_type": "code",
   "execution_count": 6,
   "id": "5c1edc34",
   "metadata": {
    "execution": {
     "iopub.execute_input": "2025-04-29T14:54:32.777985Z",
     "iopub.status.busy": "2025-04-29T14:54:32.777268Z",
     "iopub.status.idle": "2025-04-29T14:54:33.520268Z",
     "shell.execute_reply": "2025-04-29T14:54:33.519273Z"
    },
    "id": "TpCb1HCXvZFQ",
    "outputId": "79dff8ce-f136-4742-98a7-4868e47da202",
    "papermill": {
     "duration": 0.750536,
     "end_time": "2025-04-29T14:54:33.521774",
     "exception": false,
     "start_time": "2025-04-29T14:54:32.771238",
     "status": "completed"
    },
    "tags": []
   },
   "outputs": [
    {
     "data": {
      "text/plain": [
       "<Axes: xlabel='label', ylabel='count'>"
      ]
     },
     "execution_count": 6,
     "metadata": {},
     "output_type": "execute_result"
    },
    {
     "data": {
      "image/png": "[encoded data removed]",
      "text/plain": [
       "<Figure size 640x480 with 1 Axes>"
      ]
     },
     "metadata": {},
     "output_type": "display_data"
    }
   ],
   "source": [
    "import seaborn as sb\n",
    "def create_distribution(dataFile):\n",
    "    return sb.countplot(x='label', data=dataFile, palette='hls')\n",
    "\n",
    "# by calling below we can see that training, test and valid data seems to be failry evenly distributed between the classes\n",
    "create_distribution(df)"
   ]
  },
  {
   "cell_type": "code",
   "execution_count": 7,
   "id": "83f7652f",
   "metadata": {
    "execution": {
     "iopub.execute_input": "2025-04-29T14:54:33.534649Z",
     "iopub.status.busy": "2025-04-29T14:54:33.534106Z",
     "iopub.status.idle": "2025-04-29T14:54:33.539970Z",
     "shell.execute_reply": "2025-04-29T14:54:33.539155Z"
    },
    "id": "NT6sm0Duv622",
    "outputId": "d1b615a0-1b9c-46ad-e9f1-6aa89dbf0029",
    "papermill": {
     "duration": 0.013771,
     "end_time": "2025-04-29T14:54:33.541493",
     "exception": false,
     "start_time": "2025-04-29T14:54:33.527722",
     "status": "completed"
    },
    "tags": []
   },
   "outputs": [
    {
     "data": {
      "text/plain": [
       "(6335, 2)"
      ]
     },
     "execution_count": 7,
     "metadata": {},
     "output_type": "execute_result"
    }
   ],
   "source": [
    "df.shape"
   ]
  },
  {
   "cell_type": "code",
   "execution_count": 8,
   "id": "a2594533",
   "metadata": {
    "execution": {
     "iopub.execute_input": "2025-04-29T14:54:33.554106Z",
     "iopub.status.busy": "2025-04-29T14:54:33.553773Z",
     "iopub.status.idle": "2025-04-29T14:54:33.558446Z",
     "shell.execute_reply": "2025-04-29T14:54:33.557294Z"
    },
    "id": "PsFy-Psux6Pf",
    "papermill": {
     "duration": 0.012735,
     "end_time": "2025-04-29T14:54:33.559894",
     "exception": false,
     "start_time": "2025-04-29T14:54:33.547159",
     "status": "completed"
    },
    "tags": []
   },
   "outputs": [],
   "source": [
    "label_train=df.label"
   ]
  },
  {
   "cell_type": "code",
   "execution_count": 9,
   "id": "008926c7",
   "metadata": {
    "execution": {
     "iopub.execute_input": "2025-04-29T14:54:33.572630Z",
     "iopub.status.busy": "2025-04-29T14:54:33.571879Z",
     "iopub.status.idle": "2025-04-29T14:54:33.578586Z",
     "shell.execute_reply": "2025-04-29T14:54:33.577714Z"
    },
    "id": "jyatApBiyvdb",
    "outputId": "d697bf9f-b354-451f-fe98-a2ab327ce716",
    "papermill": {
     "duration": 0.014544,
     "end_time": "2025-04-29T14:54:33.579995",
     "exception": false,
     "start_time": "2025-04-29T14:54:33.565451",
     "status": "completed"
    },
    "tags": []
   },
   "outputs": [
    {
     "data": {
      "text/plain": [
       "0    0\n",
       "1    0\n",
       "2    1\n",
       "3    0\n",
       "4    1\n",
       "Name: label, dtype: int64"
      ]
     },
     "execution_count": 9,
     "metadata": {},
     "output_type": "execute_result"
    }
   ],
   "source": [
    "label_train.head()"
   ]
  },
  {
   "cell_type": "code",
   "execution_count": 10,
   "id": "fc02612f",
   "metadata": {
    "execution": {
     "iopub.execute_input": "2025-04-29T14:54:33.592891Z",
     "iopub.status.busy": "2025-04-29T14:54:33.592564Z",
     "iopub.status.idle": "2025-04-29T14:54:33.597803Z",
     "shell.execute_reply": "2025-04-29T14:54:33.596945Z"
    },
    "id": "Imx8S-37y0CA",
    "papermill": {
     "duration": 0.013389,
     "end_time": "2025-04-29T14:54:33.599308",
     "exception": false,
     "start_time": "2025-04-29T14:54:33.585919",
     "status": "completed"
    },
    "tags": []
   },
   "outputs": [],
   "source": [
    "df = df.drop(\"label\", axis = 1)"
   ]
  },
  {
   "cell_type": "code",
   "execution_count": 11,
   "id": "bdb476f7",
   "metadata": {
    "execution": {
     "iopub.execute_input": "2025-04-29T14:54:33.612012Z",
     "iopub.status.busy": "2025-04-29T14:54:33.611696Z",
     "iopub.status.idle": "2025-04-29T14:54:33.619339Z",
     "shell.execute_reply": "2025-04-29T14:54:33.618543Z"
    },
    "id": "1fXXl7i0y5ep",
    "outputId": "9bfa9298-5c29-477d-c8ef-3910d85af8a9",
    "papermill": {
     "duration": 0.015539,
     "end_time": "2025-04-29T14:54:33.620689",
     "exception": false,
     "start_time": "2025-04-29T14:54:33.605150",
     "status": "completed"
    },
    "tags": []
   },
   "outputs": [
    {
     "data": {
      "text/html": [
       "<div>\n",
       "<style scoped>\n",
       "    .dataframe tbody tr th:only-of-type {\n",
       "        vertical-align: middle;\n",
       "    }\n",
       "\n",
       "    .dataframe tbody tr th {\n",
       "        vertical-align: top;\n",
       "    }\n",
       "\n",
       "    .dataframe thead th {\n",
       "        text-align: right;\n",
       "    }\n",
       "</style>\n",
       "<table border=\"1\" class=\"dataframe\">\n",
       "  <thead>\n",
       "    <tr style=\"text-align: right;\">\n",
       "      <th></th>\n",
       "      <th>text</th>\n",
       "    </tr>\n",
       "  </thead>\n",
       "  <tbody>\n",
       "    <tr>\n",
       "      <th>0</th>\n",
       "      <td>daniel greenfield shillman journalism fellow f...</td>\n",
       "    </tr>\n",
       "    <tr>\n",
       "      <th>1</th>\n",
       "      <td>google pinterest digg linkedin reddit stumbleu...</td>\n",
       "    </tr>\n",
       "    <tr>\n",
       "      <th>2</th>\n",
       "      <td>u secretary state john f kerry said monday sto...</td>\n",
       "    </tr>\n",
       "    <tr>\n",
       "      <th>3</th>\n",
       "      <td>— kaydee king kaydeeking november 9 2016 lesso...</td>\n",
       "    </tr>\n",
       "    <tr>\n",
       "      <th>4</th>\n",
       "      <td>primary day new york frontrunners hillary clin...</td>\n",
       "    </tr>\n",
       "  </tbody>\n",
       "</table>\n",
       "</div>"
      ],
      "text/plain": [
       "                                                text\n",
       "0  daniel greenfield shillman journalism fellow f...\n",
       "1  google pinterest digg linkedin reddit stumbleu...\n",
       "2  u secretary state john f kerry said monday sto...\n",
       "3  — kaydee king kaydeeking november 9 2016 lesso...\n",
       "4  primary day new york frontrunners hillary clin..."
      ]
     },
     "execution_count": 11,
     "metadata": {},
     "output_type": "execute_result"
    }
   ],
   "source": [
    "df.head()"
   ]
  },
  {
   "cell_type": "code",
   "execution_count": 12,
   "id": "706a105e",
   "metadata": {
    "execution": {
     "iopub.execute_input": "2025-04-29T14:54:33.634517Z",
     "iopub.status.busy": "2025-04-29T14:54:33.634174Z",
     "iopub.status.idle": "2025-04-29T14:54:33.642157Z",
     "shell.execute_reply": "2025-04-29T14:54:33.641268Z"
    },
    "id": "juTa5QFUy7zs",
    "papermill": {
     "duration": 0.016546,
     "end_time": "2025-04-29T14:54:33.643743",
     "exception": false,
     "start_time": "2025-04-29T14:54:33.627197",
     "status": "completed"
    },
    "tags": []
   },
   "outputs": [],
   "source": [
    "from sklearn.model_selection import train_test_split\n",
    "X_train, X_test, Y_train, Y_test = train_test_split(df['text'], label_train, test_size=0.2, random_state=42)"
   ]
  },
  {
   "cell_type": "code",
   "execution_count": 13,
   "id": "9f1a5381",
   "metadata": {
    "execution": {
     "iopub.execute_input": "2025-04-29T14:54:33.657041Z",
     "iopub.status.busy": "2025-04-29T14:54:33.656676Z",
     "iopub.status.idle": "2025-04-29T14:54:33.663914Z",
     "shell.execute_reply": "2025-04-29T14:54:33.663005Z"
    },
    "id": "k3Vs7n0tzLIT",
    "outputId": "f2afcb10-6470-4bc1-e688-8101dcbcabc2",
    "papermill": {
     "duration": 0.015624,
     "end_time": "2025-04-29T14:54:33.665432",
     "exception": false,
     "start_time": "2025-04-29T14:54:33.649808",
     "status": "completed"
    },
    "tags": []
   },
   "outputs": [
    {
     "data": {
      "text/plain": [
       "1142    donald trump received key endorsement immigrat...\n",
       "2654    nina november 6 2016 239 pm polish government ...\n",
       "5395    time investigating hillary attack woman novemb...\n",
       "1170    takis magazine october 28 2016 election going ...\n",
       "4371    pakistan pakistan cricketer turned politician ...\n",
       "                              ...                        \n",
       "3772    happened less debate among contender showdown ...\n",
       "5191    clinton fbigate true depth obamageddon 3110201...\n",
       "5226    fearing election day trouble u school cancel c...\n",
       "5390    president obama ’ appearance town hall meeting...\n",
       "860     man protest international trade agreement ttip...\n",
       "Name: text, Length: 5068, dtype: object"
      ]
     },
     "execution_count": 13,
     "metadata": {},
     "output_type": "execute_result"
    }
   ],
   "source": [
    "X_train"
   ]
  },
  {
   "cell_type": "code",
   "execution_count": 14,
   "id": "6a7913d0",
   "metadata": {
    "execution": {
     "iopub.execute_input": "2025-04-29T14:54:33.678437Z",
     "iopub.status.busy": "2025-04-29T14:54:33.678100Z",
     "iopub.status.idle": "2025-04-29T14:54:36.778924Z",
     "shell.execute_reply": "2025-04-29T14:54:36.778067Z"
    },
    "id": "3ymGbJ_EzVss",
    "papermill": {
     "duration": 3.108878,
     "end_time": "2025-04-29T14:54:36.780361",
     "exception": false,
     "start_time": "2025-04-29T14:54:33.671483",
     "status": "completed"
    },
    "tags": []
   },
   "outputs": [
    {
     "data": {
      "text/plain": [
       "['tfidf_vectorizer.pkl']"
      ]
     },
     "execution_count": 14,
     "metadata": {},
     "output_type": "execute_result"
    }
   ],
   "source": [
    "from sklearn.feature_extraction.text import TfidfVectorizer\n",
    "tfidf_v = TfidfVectorizer()\n",
    "tfidf_X_train = tfidf_v.fit_transform(X_train)\n",
    "tfidf_X_test = tfidf_v.transform(X_test)\n",
    "\n",
    "\n",
    "import joblib\n",
    "joblib.dump(tfidf_v, 'tfidf_vectorizer.pkl')"
   ]
  },
  {
   "cell_type": "code",
   "execution_count": 15,
   "id": "792a4816",
   "metadata": {
    "execution": {
     "iopub.execute_input": "2025-04-29T14:54:36.794532Z",
     "iopub.status.busy": "2025-04-29T14:54:36.794197Z",
     "iopub.status.idle": "2025-04-29T14:54:36.818844Z",
     "shell.execute_reply": "2025-04-29T14:54:36.817677Z"
    },
    "id": "h5Eg0ZKDzoN7",
    "outputId": "6e3990cf-833e-49b6-dd31-c327439f5093",
    "papermill": {
     "duration": 0.033651,
     "end_time": "2025-04-29T14:54:36.820405",
     "exception": false,
     "start_time": "2025-04-29T14:54:36.786754",
     "status": "completed"
    },
    "tags": []
   },
   "outputs": [
    {
     "name": "stdout",
     "output_type": "stream",
     "text": [
      "<Compressed Sparse Row sparse matrix of dtype 'float64'\n",
      "\twith 1374035 stored elements and shape (5068, 68726)>\n",
      "  Coords\tValues\n",
      "  (0, 51873)\t0.38284180041112065\n",
      "  (0, 15180)\t0.1732586219552413\n",
      "  (0, 48819)\t0.3429313466573881\n",
      "  (0, 58797)\t0.29649782948283526\n",
      "  (0, 43847)\t0.09016441509234237\n",
      "  (0, 55153)\t0.26177560325692645\n",
      "  (0, 33240)\t0.2870082716601877\n",
      "  (0, 54983)\t0.18291967986206978\n",
      "  (0, 46916)\t0.24446045740077973\n",
      "  (0, 30942)\t0.4281336746701755\n",
      "  (0, 21669)\t0.2661249293764186\n",
      "  (0, 34304)\t0.18363351280405465\n",
      "  (0, 50515)\t0.21047990506874914\n",
      "  (0, 62613)\t0.12341356135069305\n",
      "  (0, 19863)\t0.1351868619120224\n",
      "  (1, 40430)\t0.1598826207563327\n",
      "  (1, 50274)\t0.07509351347275157\n",
      "  (1, 8025)\t0.14619164013587882\n",
      "  (1, 65335)\t0.19925746282476584\n",
      "  (1, 56305)\t0.08259471838121665\n",
      "  (1, 41895)\t0.172379951721946\n",
      "  (1, 6608)\t0.21621528428148207\n",
      "  (1, 28391)\t0.08142829189585528\n",
      "  (1, 27052)\t0.058250641162131425\n",
      "  (1, 66166)\t0.04710744833104004\n",
      "  :\t:\n",
      "  (5067, 43465)\t0.02200323088153805\n",
      "  (5067, 25433)\t0.022773569402107233\n",
      "  (5067, 51073)\t0.2324388724114793\n",
      "  (5067, 53904)\t0.014414950997271744\n",
      "  (5067, 67429)\t0.024125894411016837\n",
      "  (5067, 12786)\t0.02313457712883348\n",
      "  (5067, 17548)\t0.023850858741387877\n",
      "  (5067, 1345)\t0.02474518759161542\n",
      "  (5067, 5646)\t0.012415174601361174\n",
      "  (5067, 7161)\t0.01875358467648036\n",
      "  (5067, 41094)\t0.021956337587010256\n",
      "  (5067, 11613)\t0.022568721607180823\n",
      "  (5067, 37681)\t0.021564222663237292\n",
      "  (5067, 50401)\t0.0210479031676578\n",
      "  (5067, 49134)\t0.018155335732662155\n",
      "  (5067, 13724)\t0.022438382605924827\n",
      "  (5067, 61484)\t0.012401330897722078\n",
      "  (5067, 33812)\t0.024203923004060466\n",
      "  (5067, 5822)\t0.0184010675604796\n",
      "  (5067, 36251)\t0.013603764934746791\n",
      "  (5067, 67821)\t0.02621425043213279\n",
      "  (5067, 36081)\t0.025679235037456248\n",
      "  (5067, 27193)\t0.10315032492965798\n",
      "  (5067, 1456)\t0.016260896963608048\n",
      "  (5067, 43847)\t0.011589983384124897 <Compressed Sparse Row sparse matrix of dtype 'float64'\n",
      "\twith 349256 stored elements and shape (1267, 68726)>\n",
      "  Coords\tValues\n",
      "  (0, 68326)\t0.02427840754684165\n",
      "  (0, 68212)\t0.02427840754684165\n",
      "  (0, 67833)\t0.04511060593418774\n",
      "  (0, 67821)\t0.009253599878678876\n",
      "  (0, 67594)\t0.07716475437674951\n",
      "  (0, 67429)\t0.05961488844434175\n",
      "  (0, 67359)\t0.07332395883709503\n",
      "  (0, 67321)\t0.02518890453261494\n",
      "  (0, 67309)\t0.015607768336965406\n",
      "  (0, 67042)\t0.019268119472147995\n",
      "  (0, 67009)\t0.023965402777273232\n",
      "  (0, 66972)\t0.014618168622458226\n",
      "  (0, 66887)\t0.04356170157766101\n",
      "  (0, 66853)\t0.025914898270555892\n",
      "  (0, 66780)\t0.017951975636152924\n",
      "  (0, 66542)\t0.01937337129398361\n",
      "  (0, 66397)\t0.011492946872727835\n",
      "  (0, 66227)\t0.019126588391789063\n",
      "  (0, 66215)\t0.07332540955510013\n",
      "  (0, 66166)\t0.02132964565643896\n",
      "  (0, 66002)\t0.02155967506877779\n",
      "  (0, 65943)\t0.02796166584608629\n",
      "  (0, 65862)\t0.017470044813105004\n",
      "  (0, 65454)\t0.0406190982709756\n",
      "  (0, 65449)\t0.047689982572191356\n",
      "  :\t:\n",
      "  (1266, 7542)\t0.0616857344949972\n",
      "  (1266, 6870)\t0.056846174048667285\n",
      "  (1266, 6862)\t0.050262150398978765\n",
      "  (1266, 6678)\t0.024317261870843328\n",
      "  (1266, 6672)\t0.05187405135020506\n",
      "  (1266, 6244)\t0.018886668224269463\n",
      "  (1266, 6203)\t0.026304865826693422\n",
      "  (1266, 5925)\t0.029543056382260336\n",
      "  (1266, 5834)\t0.016108546003433845\n",
      "  (1266, 5646)\t0.01331099629071939\n",
      "  (1266, 5563)\t0.06044970241511529\n",
      "  (1266, 4921)\t0.030224851207557645\n",
      "  (1266, 4915)\t0.03180738027167429\n",
      "  (1266, 4847)\t0.03126285335009493\n",
      "  (1266, 4715)\t0.0365345912793466\n",
      "  (1266, 4540)\t0.02368214519255457\n",
      "  (1266, 4485)\t0.06379961555184364\n",
      "  (1266, 2382)\t0.06183696606439221\n",
      "  (1266, 1477)\t0.0463088088606206\n",
      "  (1266, 1474)\t0.04913897779287675\n",
      "  (1266, 1471)\t0.03785472702370821\n",
      "  (1266, 1456)\t0.0174342082263286\n",
      "  (1266, 1448)\t0.02762937164520184\n",
      "  (1266, 1429)\t0.03146615750756788\n",
      "  (1266, 1389)\t0.03581446831893949\n"
     ]
    }
   ],
   "source": [
    "print(tfidf_X_train,tfidf_X_test)"
   ]
  },
  {
   "cell_type": "code",
   "execution_count": 16,
   "id": "5ac59f9d",
   "metadata": {
    "execution": {
     "iopub.execute_input": "2025-04-29T14:54:36.834166Z",
     "iopub.status.busy": "2025-04-29T14:54:36.833844Z",
     "iopub.status.idle": "2025-04-29T14:54:36.841905Z",
     "shell.execute_reply": "2025-04-29T14:54:36.841014Z"
    },
    "id": "FdFUcba8z08V",
    "papermill": {
     "duration": 0.016487,
     "end_time": "2025-04-29T14:54:36.843333",
     "exception": false,
     "start_time": "2025-04-29T14:54:36.826846",
     "status": "completed"
    },
    "tags": []
   },
   "outputs": [],
   "source": [
    "from sklearn.metrics import confusion_matrix\n",
    "from sklearn.metrics import classification_report\n",
    "from matplotlib import pyplot as plt\n",
    "from sklearn.linear_model import PassiveAggressiveClassifier\n",
    "import itertools\n",
    "import numpy as np\n",
    "def plot_confusion_matrix(cm, classes,\n",
    "                          normalize=False,\n",
    "                          title='Confusion matrix',\n",
    "                          cmap=plt.cm.Blues):\n",
    "\n",
    "    plt.imshow(cm, interpolation='nearest', cmap=cmap)\n",
    "    plt.title(title)\n",
    "    plt.colorbar()\n",
    "    tick_marks = np.arange(len(classes))\n",
    "    plt.xticks(tick_marks, classes, rotation=45)\n",
    "    plt.yticks(tick_marks, classes)\n",
    "\n",
    "    if normalize:\n",
    "        cm = cm.astype('float') / cm.sum(axis=1)[:, np.newaxis]\n",
    "        print(\"Normalized confusion matrix\")\n",
    "    else:\n",
    "        print('Confusion matrix, without normalization')\n",
    "\n",
    "    thresh = cm.max() / 2.\n",
    "    for i, j in itertools.product(range(cm.shape[0]), range(cm.shape[1])):\n",
    "        plt.text(j, i, cm[i, j],\n",
    "                 horizontalalignment=\"center\",\n",
    "                 color=\"white\" if cm[i, j] > thresh else \"black\")\n",
    "\n",
    "    plt.tight_layout()\n",
    "    plt.ylabel('True label')\n",
    "    plt.xlabel('Predicted label')"
   ]
  },
  {
   "cell_type": "code",
   "execution_count": 21,
   "id": "40b03535",
   "metadata": {
    "execution": {
     "iopub.execute_input": "2025-04-29T14:54:36.933413Z",
     "iopub.status.busy": "2025-04-29T14:54:36.933057Z",
     "iopub.status.idle": "2025-04-29T14:56:17.323062Z",
     "shell.execute_reply": "2025-04-29T14:56:17.322138Z"
    },
    "papermill": {
     "duration": 100.404062,
     "end_time": "2025-04-29T14:56:17.330031",
     "exception": false,
     "start_time": "2025-04-29T14:54:36.925969",
     "status": "completed"
    },
    "tags": []
   },
   "outputs": [
    {
     "data": {
      "text/html": [
       "<style>#sk-container-id-1 {color: black;background-color: white;}#sk-container-id-1 pre{padding: 0;}#sk-container-id-1 div.sk-toggleable {background-color: white;}#sk-container-id-1 label.sk-toggleable__label {cursor: pointer;display: block;width: 100%;margin-bottom: 0;padding: 0.3em;box-sizing: border-box;text-align: center;}#sk-container-id-1 label.sk-toggleable__label-arrow:before {content: \"▸\";float: left;margin-right: 0.25em;color: #696969;}#sk-container-id-1 label.sk-toggleable__label-arrow:hover:before {color: black;}#sk-container-id-1 div.sk-estimator:hover label.sk-toggleable__label-arrow:before {color: black;}#sk-container-id-1 div.sk-toggleable__content {max-height: 0;max-width: 0;overflow: hidden;text-align: left;background-color: #f0f8ff;}#sk-container-id-1 div.sk-toggleable__content pre {margin: 0.2em;color: black;border-radius: 0.25em;background-color: #f0f8ff;}#sk-container-id-1 input.sk-toggleable__control:checked~div.sk-toggleable__content {max-height: 200px;max-width: 100%;overflow: auto;}#sk-container-id-1 input.sk-toggleable__control:checked~label.sk-toggleable__label-arrow:before {content: \"▾\";}#sk-container-id-1 div.sk-estimator input.sk-toggleable__control:checked~label.sk-toggleable__label {background-color: #d4ebff;}#sk-container-id-1 div.sk-label input.sk-toggleable__control:checked~label.sk-toggleable__label {background-color: #d4ebff;}#sk-container-id-1 input.sk-hidden--visually {border: 0;clip: rect(1px 1px 1px 1px);clip: rect(1px, 1px, 1px, 1px);height: 1px;margin: -1px;overflow: hidden;padding: 0;position: absolute;width: 1px;}#sk-container-id-1 div.sk-estimator {font-family: monospace;background-color: #f0f8ff;border: 1px dotted black;border-radius: 0.25em;box-sizing: border-box;margin-bottom: 0.5em;}#sk-container-id-1 div.sk-estimator:hover {background-color: #d4ebff;}#sk-container-id-1 div.sk-parallel-item::after {content: \"\";width: 100%;border-bottom: 1px solid gray;flex-grow: 1;}#sk-container-id-1 div.sk-label:hover label.sk-toggleable__label {background-color: #d4ebff;}#sk-container-id-1 div.sk-serial::before {content: \"\";position: absolute;border-left: 1px solid gray;box-sizing: border-box;top: 0;bottom: 0;left: 50%;z-index: 0;}#sk-container-id-1 div.sk-serial {display: flex;flex-direction: column;align-items: center;background-color: white;padding-right: 0.2em;padding-left: 0.2em;position: relative;}#sk-container-id-1 div.sk-item {position: relative;z-index: 1;}#sk-container-id-1 div.sk-parallel {display: flex;align-items: stretch;justify-content: center;background-color: white;position: relative;}#sk-container-id-1 div.sk-item::before, #sk-container-id-1 div.sk-parallel-item::before {content: \"\";position: absolute;border-left: 1px solid gray;box-sizing: border-box;top: 0;bottom: 0;left: 50%;z-index: -1;}#sk-container-id-1 div.sk-parallel-item {display: flex;flex-direction: column;z-index: 1;position: relative;background-color: white;}#sk-container-id-1 div.sk-parallel-item:first-child::after {align-self: flex-end;width: 50%;}#sk-container-id-1 div.sk-parallel-item:last-child::after {align-self: flex-start;width: 50%;}#sk-container-id-1 div.sk-parallel-item:only-child::after {width: 0;}#sk-container-id-1 div.sk-dashed-wrapped {border: 1px dashed gray;margin: 0 0.4em 0.5em 0.4em;box-sizing: border-box;padding-bottom: 0.4em;background-color: white;}#sk-container-id-1 div.sk-label label {font-family: monospace;font-weight: bold;display: inline-block;line-height: 1.2em;}#sk-container-id-1 div.sk-label-container {text-align: center;}#sk-container-id-1 div.sk-container {/* jupyter's `normalize.less` sets `[hidden] { display: none; }` but bootstrap.min.css set `[hidden] { display: none !important; }` so we also need the `!important` here to be able to override the default hidden behavior on the sphinx rendered scikit-learn.org. See: https://github.com/scikit-learn/scikit-learn/issues/21755 */display: inline-block !important;position: relative;}#sk-container-id-1 div.sk-text-repr-fallback {display: none;}</style><div id=\"sk-container-id-1\" class=\"sk-top-container\"><div class=\"sk-text-repr-fallback\"><pre>MLPClassifier(hidden_layer_sizes=(50,), max_iter=300)</pre><b>In a Jupyter environment, please rerun this cell to show the HTML representation or trust the notebook. <br />On GitHub, the HTML representation is unable to render, please try loading this page with nbviewer.org.</b></div><div class=\"sk-container\" hidden><div class=\"sk-item\"><div class=\"sk-estimator sk-toggleable\"><input class=\"sk-toggleable__control sk-hidden--visually\" id=\"sk-estimator-id-1\" type=\"checkbox\" checked><label for=\"sk-estimator-id-1\" class=\"sk-toggleable__label sk-toggleable__label-arrow\">MLPClassifier</label><div class=\"sk-toggleable__content\"><pre>MLPClassifier(hidden_layer_sizes=(50,), max_iter=300)</pre></div></div></div></div></div>"
      ],
      "text/plain": [
       "MLPClassifier(hidden_layer_sizes=(50,), max_iter=300)"
      ]
     },
     "execution_count": 21,
     "metadata": {},
     "output_type": "execute_result"
    }
   ],
   "source": [
    "from sklearn.neural_network import MLPClassifier\n",
    "\n",
    "clf = MLPClassifier(hidden_layer_sizes=(50,), activation='relu', solver='adam', max_iter=300)\n",
    "\n",
    "clf.fit(tfidf_X_train,Y_train)"
   ]
  },
  {
   "cell_type": "code",
   "execution_count": 22,
   "id": "c0a16d6e",
   "metadata": {
    "execution": {
     "iopub.execute_input": "2025-04-29T14:56:17.344502Z",
     "iopub.status.busy": "2025-04-29T14:56:17.343490Z",
     "iopub.status.idle": "2025-04-29T14:56:17.585101Z",
     "shell.execute_reply": "2025-04-29T14:56:17.584231Z"
    },
    "papermill": {
     "duration": 0.250399,
     "end_time": "2025-04-29T14:56:17.586585",
     "exception": false,
     "start_time": "2025-04-29T14:56:17.336186",
     "status": "completed"
    },
    "tags": []
   },
   "outputs": [
    {
     "name": "stdout",
     "output_type": "stream",
     "text": [
      "Accuracy: 94.24%\n",
      "Confusion matrix, without normalization\n"
     ]
    },
    {
     "data": {
      "image/png": "[encoded data removed]",
      "text/plain": [
       "<Figure size 640x480 with 2 Axes>"
      ]
     },
     "metadata": {},
     "output_type": "display_data"
    }
   ],
   "source": [
    "from sklearn import metrics\n",
    "Y_pred = clf.predict(tfidf_X_test)\n",
    "score = metrics.accuracy_score(Y_test, Y_pred)\n",
    "print(f'Accuracy: {round(score*100,2)}%')\n",
    "cm = metrics.confusion_matrix(Y_test, Y_pred)\n",
    "plot_confusion_matrix(cm, classes=['FAKE Data', 'REAL Data'])"
   ]
  },
  {
   "cell_type": "code",
   "execution_count": 25,
   "id": "6b717bcb",
   "metadata": {
    "execution": {
     "iopub.execute_input": "2025-04-29T14:56:17.641940Z",
     "iopub.status.busy": "2025-04-29T14:56:17.641634Z",
     "iopub.status.idle": "2025-04-29T14:56:17.725989Z",
     "shell.execute_reply": "2025-04-29T14:56:17.725056Z"
    },
    "papermill": {
     "duration": 0.093944,
     "end_time": "2025-04-29T14:56:17.727743",
     "exception": false,
     "start_time": "2025-04-29T14:56:17.633799",
     "status": "completed"
    },
    "tags": []
   },
   "outputs": [
    {
     "data": {
      "text/plain": [
       "['mlp_classifier_model.pkl']"
      ]
     },
     "execution_count": 25,
     "metadata": {},
     "output_type": "execute_result"
    }
   ],
   "source": [
    "import joblib\n",
    "\n",
    "# Save the model to a file\n",
    "joblib.dump(clf, 'mlp_classifier_model.pkl')"
   ]
  }
 ],
 "metadata": {
  "accelerator": "GPU",
  "colab": {
   "gpuType": "T4",
   "provenance": []
  },
  "kaggle": {
   "accelerator": "none",
   "dataSources": [
    {
     "datasetId": 7252953,
     "sourceId": 11568247,
     "sourceType": "datasetVersion"
    }
   ],
   "dockerImageVersionId": 31011,
   "isGpuEnabled": false,
   "isInternetEnabled": true,
   "language": "python",
   "sourceType": "notebook"
  },
  "kernelspec": {
   "display_name": "Python 3",
   "language": "python",
   "name": "python3"
  },
  "language_info": {
   "codemirror_mode": {
    "name": "ipython",
    "version": 3
   },
   "file_extension": ".py",
   "mimetype": "text/x-python",
   "name": "python",
   "nbconvert_exporter": "python",
   "pygments_lexer": "ipython3",
   "version": "3.11.11"
  },
  "papermill": {
   "default_parameters": {},
   "duration": 153.906537,
   "end_time": "2025-04-29T14:56:18.872020",
   "environment_variables": {},
   "exception": null,
   "input_path": "__notebook__.ipynb",
   "output_path": "__notebook__.ipynb",
   "parameters": {},
   "start_time": "2025-04-29T14:53:44.965483",
   "version": "2.6.0"
  }
 },
 "nbformat": 4,
 "nbformat_minor": 5
}
